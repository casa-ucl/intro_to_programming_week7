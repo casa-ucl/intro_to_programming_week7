{
 "cells": [
  {
   "cell_type": "markdown",
   "metadata": {},
   "source": [
    "# Defining an Object"
   ]
  },
  {
   "cell_type": "markdown",
   "metadata": {},
   "source": [
    "You can define an object by simply listing it as a set of keys and values - that is, key:\"value\"."
   ]
  },
  {
   "cell_type": "code",
   "execution_count": null,
   "metadata": {
    "collapsed": false
   },
   "outputs": [],
   "source": [
    "%%javascript \n",
    "\n",
    "var district;\n",
    "console.log(district);"
   ]
  },
  {
   "cell_type": "markdown",
   "metadata": {},
   "source": [
    "It is also possible to create objects using a custom-built function:"
   ]
  },
  {
   "cell_type": "code",
   "execution_count": null,
   "metadata": {
    "collapsed": false
   },
   "outputs": [],
   "source": [
    "%%javascript \n",
    "\n",
    "function createDistrict(area, population, mp) {\n",
    "}\n",
    "\n",
    "var myDistrict = createDistrict(10, 1000, \"The Rt Honourable Scuttlebutt\");\n",
    "myDistrict.report();"
   ]
  },
  {
   "cell_type": "markdown",
   "metadata": {},
   "source": [
    "The user can create an Object type (_note_: Object names are usually capitalised)."
   ]
  },
  {
   "cell_type": "code",
   "execution_count": null,
   "metadata": {
    "collapsed": false
   },
   "outputs": [],
   "source": [
    "%%javascript \n",
    "\n",
    "function District(area, population, mp) {\n",
    "}\n",
    "\n",
    "var myDistrict = new District(10, 1000, \"The Rt Honourable Scuttlebutt\");\n",
    "myDistrict.report();\n",
    "var theirDistrict = new District(1, 10, \"Lord Underwhelming\");\n",
    "theirDistrict.report();"
   ]
  },
  {
   "cell_type": "markdown",
   "metadata": {},
   "source": [
    "# The Nitty Gritty"
   ]
  },
  {
   "cell_type": "markdown",
   "metadata": {},
   "source": [
    "Getting to know the inside of an Object!"
   ]
  },
  {
   "cell_type": "code",
   "execution_count": null,
   "metadata": {
    "collapsed": false
   },
   "outputs": [],
   "source": [
    "%%javascript \n",
    "\n",
    "function District(area, population, mp) {\n",
    "}\n",
    "\n",
    "var myDistrict = new District(10, 1000, \"The Rt Honourable Scuttlebutt\");\n",
    "\n",
    "console.log(myDistrict.constructor);\n",
    "console.log(myDistrict.__proto__);\n",
    "console.log(myDistrict.prototype);"
   ]
  },
  {
   "cell_type": "markdown",
   "metadata": {},
   "source": [
    "# Adding to an Object"
   ]
  },
  {
   "cell_type": "markdown",
   "metadata": {},
   "source": [
    "How can we go about adding more attributes to an object?"
   ]
  },
  {
   "cell_type": "code",
   "execution_count": null,
   "metadata": {
    "collapsed": false
   },
   "outputs": [],
   "source": [
    "%%javascript \n",
    "\n",
    "function District(area, population, mp) {\n",
    "}\n",
    "\n",
    "District.avgWealth = 1000;\n",
    "\n",
    "var myDistrict = new District(10, 1000, \"The Rt Honourable Scuttlebutt\");\n",
    "\n",
    "console.log(myDistrict.avgWealth);"
   ]
  },
  {
   "cell_type": "markdown",
   "metadata": {},
   "source": [
    "Introducing...the prototype!"
   ]
  },
  {
   "cell_type": "code",
   "execution_count": null,
   "metadata": {
    "collapsed": false
   },
   "outputs": [],
   "source": [
    "%%javascript \n",
    "\n",
    "function District(area, population, mp) {\n",
    "}\n",
    "\n",
    "var myDistrict = new District(10, 1000, \"The Rt Honourable Scuttlebutt\");\n",
    "\n",
    "District.prototype.density = function(){\n",
    "};\n",
    "\n",
    "myDistrict.density();"
   ]
  },
  {
   "cell_type": "markdown",
   "metadata": {},
   "source": [
    "So... does it work to add an attribute?"
   ]
  },
  {
   "cell_type": "code",
   "execution_count": null,
   "metadata": {
    "collapsed": false
   },
   "outputs": [],
   "source": [
    "%%javascript \n",
    "\n",
    "function District(area, population, mp) {\n",
    "}\n",
    "\n",
    "var myDistrict = new District(10, 1000, \"The Rt Honourable Scuttlebutt\");\n",
    "\n",
    "District.prototype.year = 2018;\n",
    "District.prototype.description = this.mp + \"'s super cool district!\";\n",
    "\n",
    "console.log(myDistrict.year);\n",
    "console.log(myDistrict.description);"
   ]
  },
  {
   "cell_type": "markdown",
   "metadata": {},
   "source": [
    "# Inheriting"
   ]
  },
  {
   "cell_type": "markdown",
   "metadata": {},
   "source": [
    "How can we make use of an existing class, and expand upon it?"
   ]
  },
  {
   "cell_type": "code",
   "execution_count": null,
   "metadata": {
    "collapsed": false
   },
   "outputs": [],
   "source": [
    "%%javascript \n",
    "\n",
    "function District(area, population, mp) {\n",
    "}\n",
    "\n",
    "\n",
    "function PollingArea(area, population, mp, perc){\n",
    "}\n",
    "\n",
    "var myPollingArea = new PollingArea(10, 1000, \"The Rt Honourable Scuttlebutt\", .30);\n",
    "myPollingArea.estimateVotes();"
   ]
  },
  {
   "cell_type": "markdown",
   "metadata": {},
   "source": [
    "How wild can we get with this??"
   ]
  },
  {
   "cell_type": "code",
   "execution_count": null,
   "metadata": {
    "collapsed": false
   },
   "outputs": [],
   "source": [
    "%%javascript \n",
    "\n",
    "function Geometry(x, y) {\n",
    "  this.x = x;\n",
    "  this.y = y;\n",
    "\n",
    "  this.printOut = function() {\n",
    "      console.log(this.x + \", \" + this.y);\n",
    "  };\n",
    "}"
   ]
  },
  {
   "cell_type": "markdown",
   "metadata": {},
   "source": [
    "# Prototypes and Inheritance"
   ]
  },
  {
   "cell_type": "markdown",
   "metadata": {},
   "source": [
    "What happens to inheritance if we're using prototypes?"
   ]
  },
  {
   "cell_type": "code",
   "execution_count": null,
   "metadata": {
    "collapsed": false
   },
   "outputs": [],
   "source": [
    "%%javascript \n",
    "\n",
    "function District(area, population, mp) {\n",
    "}\n",
    "\n",
    "District.prototype = {\n",
    "}\n",
    "\n",
    "function PollingArea(area, population, mp, perc){\n",
    "}\n",
    "\n",
    "var myPollingArea = new PollingArea(10, 1000, \"The Rt Honourable Scuttlebutt\", .30);\n",
    "myPollingArea.report();"
   ]
  },
  {
   "cell_type": "markdown",
   "metadata": {},
   "source": [
    "Ok so what else can we do?"
   ]
  },
  {
   "cell_type": "code",
   "execution_count": null,
   "metadata": {
    "collapsed": false
   },
   "outputs": [],
   "source": [
    "%%javascript \n",
    "\n",
    "function District(area, population, mp) {\n",
    "}\n",
    "\n",
    "District.prototype = {\n",
    "}\n",
    "\n",
    "function PollingArea(area, population, mp, perc){\n",
    "}\n",
    "\n",
    "var myPollingArea = new PollingArea(10, 1000, \"The Rt Honourable Scuttlebutt\", .30);\n",
    "myPollingArea.report();\n",
    "myPollingArea.estimateVotes();"
   ]
  },
  {
   "cell_type": "markdown",
   "metadata": {},
   "source": [
    "# Comparing Types and Values"
   ]
  },
  {
   "cell_type": "markdown",
   "metadata": {},
   "source": [
    "JavaScript distinguishes between the type and value of objects"
   ]
  },
  {
   "cell_type": "code",
   "execution_count": null,
   "metadata": {
    "collapsed": false
   },
   "outputs": [],
   "source": [
    "%%javascript\n",
    "\n",
    "console.log(1==1);\n",
    "console.log(1==2);\n",
    "console.log(1==\"1\");\n",
    "console.log(1===\"1\");\n",
    "\n",
    "console.log(12 < 2);\n",
    "console.log(12 < \"2\");\n",
    "console.log(\"12\" < \"2\");"
   ]
  },
  {
   "cell_type": "markdown",
   "metadata": {},
   "source": [
    "One important way this can show up is when you create methods within Objects"
   ]
  },
  {
   "cell_type": "code",
   "execution_count": null,
   "metadata": {
    "collapsed": false
   },
   "outputs": [],
   "source": [
    "%%javascript\n",
    "\n",
    "function District(area, population, mp) {\n",
    "}\n",
    "\n",
    "var myDistrict = new District(10, 1000, \"The Rt Honourable Scuttlebutt\");\n",
    "var theirDistrict = new District(1, 10, \"Lord Underwhelming\");\n",
    "console.log(myDistrict.density === theirDistrict.density);"
   ]
  },
  {
   "cell_type": "markdown",
   "metadata": {},
   "source": [
    "If, instead of creating the function within the **instance**, you instead create it within the **prototype**, it is available for all instances to access. This means that it will show us as being equal."
   ]
  },
  {
   "cell_type": "code",
   "execution_count": null,
   "metadata": {
    "collapsed": false
   },
   "outputs": [],
   "source": [
    "%%javascript\n",
    "\n",
    "function District(area, population, mp) {\n",
    "}\n",
    "\n",
    "District.prototype = {\n",
    "}\n",
    "\n",
    "var myDistrict = new District(10, 1000, \"The Rt Honourable Scuttlebutt\");\n",
    "var theirDistrict = new District(1, 10, \"Lord Underwhelming\");\n",
    "console.log(myDistrict.density === theirDistrict.density);"
   ]
  }
 ],
 "metadata": {
  "kernelspec": {
   "display_name": "Python 3",
   "language": "python",
   "name": "python3"
  },
  "language_info": {
   "codemirror_mode": {
    "name": "ipython",
    "version": 3
   },
   "file_extension": ".py",
   "mimetype": "text/x-python",
   "name": "python",
   "nbconvert_exporter": "python",
   "pygments_lexer": "ipython3",
   "version": "3.6.0"
  }
 },
 "nbformat": 4,
 "nbformat_minor": 2
}
